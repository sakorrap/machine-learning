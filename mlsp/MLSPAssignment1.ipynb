{
 "cells": [
  {
   "cell_type": "markdown",
   "metadata": {},
   "source": [
    "### Question 1:\n",
    "Given #burgers distribution: \n",
    "B = [0 1 0 0 0 2 0 1 1 0 1 0 1 1 4 0 1 5 0 0 2 1 1 2 1 3 0 0 1 2 1 0 0 1 2]\n",
    "Estimating the parameter using MLE for given poisson distribution:\n",
    "let $b_i$ be #Burgers in $i^{th}$ week\n",
    "let the average #burgers per week be $\\lambda$\n",
    "then PDF of the distribution \n",
    "$$P(B|\\lambda) = \\frac{e^{-\\lambda}*\\lambda^i}{i!}$$\n",
    "$$MaximumLikelihood L = \\max_{\\lambda} \\prod_{i} \\frac{e^{-\\lambda}*\\lambda^i}{i!}$$\n",
    "$$Loglikelihood LL = \\max_{\\lambda} ln \\lambda \\sum_i b_i -N*\\lambda$$\n",
    "Let us find a partial derivative for finding optimum value:\n",
    "$$LL = \\frac{\\partial}{\\partial \\lambda} {ln \\lambda \\sum_i b_i -N*\\lambda} = \\frac{\\sum_i b_i}{\\lambda} - N $$\n",
    "Equating to zero, we get\n",
    "$$\\lambda = \\frac{\\sum_i b_i}{N}$$ \n",
    "\n"
   ]
  },
  {
   "cell_type": "markdown",
   "metadata": {},
   "source": []
  },
  {
   "cell_type": "code",
   "execution_count": 1,
   "metadata": {
    "collapsed": true
   },
   "outputs": [],
   "source": [
    "\n",
    "B=[0,1,0,0,0,2,0,1,1,0,1,0,1,1,4,0,1,5,0,0,2,1,1,2,1,3,0,0,1,2,1,0,0,1,2]"
   ]
  },
  {
   "cell_type": "markdown",
   "metadata": {},
   "source": [
    "So, the parameter $\\lambda$ that maximizes the likelihood of the distribution"
   ]
  },
  {
   "cell_type": "code",
   "execution_count": 2,
   "metadata": {},
   "outputs": [
    {
     "name": "stdout",
     "output_type": "stream",
     "text": [
      "Avg no. of burgers per week :  1.0\n"
     ]
    }
   ],
   "source": [
    "sum = 0\n",
    "N=len(B)\n",
    "for i in B:\n",
    "   sum=sum+i\n",
    "rateParam=float(sum/N)\n",
    "print(\"Avg no. of burgers per week : \",rateParam)"
   ]
  },
  {
   "cell_type": "markdown",
   "metadata": {},
   "source": [
    "Since log-likelihood of observing a given sequence is LL"
   ]
  },
  {
   "cell_type": "code",
   "execution_count": 3,
   "metadata": {
    "scrolled": true
   },
   "outputs": [
    {
     "name": "stdout",
     "output_type": "stream",
     "text": [
      "Maximum Log-liklihood of the distribution :  -35.0\n"
     ]
    }
   ],
   "source": [
    "import math\n",
    "LL=math.log(rateParam)*sum - N*rateParam\n",
    "print(\"Maximum Log-liklihood of the distribution : \",LL)"
   ]
  },
  {
   "cell_type": "markdown",
   "metadata": {},
   "source": [
    " let us calculate log-likelihood for a different parameter $\\lambda=0.5, 2$"
   ]
  },
  {
   "cell_type": "code",
   "execution_count": null,
   "metadata": {
    "scrolled": true
   },
   "outputs": [
    {
     "name": "stdout",
     "output_type": "stream",
     "text": [
      "Log-liklihood of the distribution when parameter is 2 :  -45.73984868040192\n",
      "Log-liklihood of the distribution when parameter is 0.5 :  -41.76015131959808\n"
     ]
    }
   ],
   "source": [
    "rateParam=2\n",
    "LL=math.log(rateParam)*sum - N*rateParam\n",
    "print(\"Log-liklihood of the distribution when parameter is 2 : \",LL)\n",
    "rateParam=0.5\n",
    "LL=math.log(rateParam)*sum - N*rateParam\n",
    "print(\"Log-liklihood of the distribution when parameter is 0.5 : \",LL)"
   ]
  },
  {
   "cell_type": "markdown",
   "metadata": {},
   "source": [
    "We observe log-likelihood is maximum for $\\lambda = 1$"
   ]
  },
  {
   "cell_type": "markdown",
   "metadata": {},
   "source": [
    "Now using prior probability to calculate Appriori Probability $P(\\lambda|B)=\\frac{P(B|\\lambda)*P(\\lambda)}{P(B)} $ where $P(\\lambda)=Gamma(\\alpha,\\beta)$ "
   ]
  },
  {
   "cell_type": "markdown",
   "metadata": {},
   "source": [
    "------$Gamma$ distribution is conjugate prior and on maximizing the above funcion we get the parameters as -----------------"
   ]
  },
  {
   "cell_type": "markdown",
   "metadata": {},
   "source": [
    "### Q2 Image processing"
   ]
  },
  {
   "cell_type": "code",
   "execution_count": 7,
   "metadata": {},
   "outputs": [
    {
     "ename": "SyntaxError",
     "evalue": "invalid syntax (<ipython-input-7-40a4827bb968>, line 1)",
     "output_type": "error",
     "traceback": [
      "\u001b[0;36m  File \u001b[0;32m\"<ipython-input-7-40a4827bb968>\"\u001b[0;36m, line \u001b[0;32m1\u001b[0m\n\u001b[0;31m    [i for i in [0:10]]\u001b[0m\n\u001b[0m                  ^\u001b[0m\n\u001b[0;31mSyntaxError\u001b[0m\u001b[0;31m:\u001b[0m invalid syntax\n"
     ]
    }
   ],
   "source": []
  }
 ],
 "metadata": {
  "kernelspec": {
   "display_name": "Python 3",
   "language": "python",
   "name": "python3"
  },
  "language_info": {
   "codemirror_mode": {
    "name": "ipython",
    "version": 3
   },
   "file_extension": ".py",
   "mimetype": "text/x-python",
   "name": "python",
   "nbconvert_exporter": "python",
   "pygments_lexer": "ipython3",
   "version": "3.5.2"
  }
 },
 "nbformat": 4,
 "nbformat_minor": 2
}
