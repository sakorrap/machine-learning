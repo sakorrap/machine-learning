{
 "cells": [
  {
   "cell_type": "code",
   "execution_count": null,
   "metadata": {
    "collapsed": true
   },
   "outputs": [],
   "source": [
    "import numpy as np \n",
    "import pandas as pd \n",
    "import matplotlib.pyplot as plt "
   ]
  },
  {
   "cell_type": "code",
   "execution_count": 2,
   "metadata": {},
   "outputs": [
    {
     "ename": "NameError",
     "evalue": "name 'D' is not defined",
     "output_type": "error",
     "traceback": [
      "\u001b[0;31m---------------------------------------------------------------------------\u001b[0m",
      "\u001b[0;31mNameError\u001b[0m                                 Traceback (most recent call last)",
      "\u001b[0;32m<ipython-input-2-be53106f0902>\u001b[0m in \u001b[0;36m<module>\u001b[0;34m()\u001b[0m\n\u001b[0;32m----> 1\u001b[0;31m \u001b[0mdata\u001b[0m\u001b[0;34m=\u001b[0m\u001b[0mD\u001b[0m\u001b[0;34m\u001b[0m\u001b[0m\n\u001b[0m\u001b[1;32m      2\u001b[0m \u001b[0mN\u001b[0m\u001b[0;34m=\u001b[0m\u001b[0;36m5\u001b[0m\u001b[0;34m\u001b[0m\u001b[0m\n\u001b[1;32m      3\u001b[0m \u001b[0;34m\u001b[0m\u001b[0m\n\u001b[1;32m      4\u001b[0m \u001b[0mprior_proba\u001b[0m \u001b[0;34m=\u001b[0m \u001b[0mnp\u001b[0m\u001b[0;34m.\u001b[0m\u001b[0marray\u001b[0m\u001b[0;34m(\u001b[0m\u001b[0;34m[\u001b[0m\u001b[0;36m1\u001b[0m\u001b[0;34m/\u001b[0m\u001b[0mN\u001b[0m \u001b[0;32mfor\u001b[0m \u001b[0mx\u001b[0m \u001b[0;32min\u001b[0m \u001b[0mrange\u001b[0m\u001b[0;34m(\u001b[0m\u001b[0mN\u001b[0m\u001b[0;34m)\u001b[0m\u001b[0;34m]\u001b[0m\u001b[0;34m)\u001b[0m\u001b[0;34m\u001b[0m\u001b[0m\n\u001b[1;32m      5\u001b[0m \u001b[0;34m\u001b[0m\u001b[0m\n",
      "\u001b[0;31mNameError\u001b[0m: name 'D' is not defined"
     ]
    }
   ],
   "source": [
    "data=D\n",
    "N=5\n",
    "        \n",
    "prior_proba = np.array([1/N for x in range(N)])\n",
    "\n",
    "n = data.shape[0]\n",
    "membership_matrix = np.zeros((n,N))\n",
    "\n",
    "#centroids = [Guassian(data, 1/k) for i in range(k)]\n",
    "means = np.array([np.random.randint(40) for i in range(N)])\n",
    "variance = np.array([1.0 for i in range(N)])\n",
    "error = 100 \n",
    "threshold = 0.1\n",
    "iterater = 0\n",
    "prev_means = None\n",
    "\n",
    "while error > threshold or iterations < 1000 : \n",
    "\n",
    "    prev_means = means\n",
    "\n",
    "    iterater += 1\n",
    "    # E-Step \n",
    "    # update membership matrix \n",
    "    for i in range(data.shape[0]) : \n",
    "        for j in range(N) : \n",
    "            _sum = sum([prior_proba[q] * normal_pdf(data[i],means[q],variance[q]) for q in range(N)])\n",
    "            membership_matrix[i,j] = prior_proba[j] * normal_pdf(data[i],means[j],variance[j]) / _sum\n",
    "\n",
    "    # M-Step \n",
    "\n",
    "    #update means\n",
    "    total = membership_matrix.sum(axis=0)\n",
    "    t = data*membership_matrix\n",
    "#             print(t,t.shape)\n",
    "    means = np.divide(t.sum(axis=0),total)\n",
    "#             print(means, type(means) , means.shape )\n",
    "    variance = np.var(t,axis=0)\n",
    "#             print(variance,variance.shape)\n",
    "    prior_proba = membership_matrix.sum(axis=0)/n\n",
    "\n",
    "    error = np.sqrt(np.sum((prev_means - means)**2))\n",
    "\n",
    "    if iterater % 10 == 1 : \n",
    "        print(iterater,error )\n",
    "print(iterater)\n",
    "print(means,variance,membership_matrix,prior_proba)"
   ]
  },
  {
   "cell_type": "code",
   "execution_count": null,
   "metadata": {
    "collapsed": true
   },
   "outputs": [],
   "source": [
    "def normal_pdf(pt,mean,var) : \n",
    "    return np.exp(-((pt-mean)**2)/(2*var*var))/np.sqrt(2*np.pi*var)"
   ]
  },
  {
   "cell_type": "code",
   "execution_count": null,
   "metadata": {
    "collapsed": true
   },
   "outputs": [],
   "source": [
    "gmm(dm_vc,2)"
   ]
  }
 ],
 "metadata": {
  "kernelspec": {
   "display_name": "Python 3",
   "language": "python",
   "name": "python3"
  },
  "language_info": {
   "codemirror_mode": {
    "name": "ipython",
    "version": 3
   },
   "file_extension": ".py",
   "mimetype": "text/x-python",
   "name": "python",
   "nbconvert_exporter": "python",
   "pygments_lexer": "ipython3",
   "version": "3.5.2"
  }
 },
 "nbformat": 4,
 "nbformat_minor": 2
}
