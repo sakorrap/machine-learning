{
 "cells": [
  {
   "cell_type": "code",
   "execution_count": 117,
   "metadata": {
    "collapsed": true
   },
   "outputs": [],
   "source": [
    "\n",
    "import numpy as np \n",
    "import matplotlib.pyplot as pyplot\n",
    "import pandas as pd\n",
    "from scipy import ndimage\n",
    "from PIL import Image\n",
    "\n"
   ]
  },
  {
   "cell_type": "code",
   "execution_count": 118,
   "metadata": {
    "collapsed": true
   },
   "outputs": [],
   "source": [
    "def logisticFunc(x) : \n",
    "    return 1./(1.+np.exp(np.negative(x)))\n",
    "\n",
    "def order1derivative_log(x) :\n",
    "    return logisticFunc(x)*(1.-logisticFunc(x))\n",
    "\n"
   ]
  },
  {
   "cell_type": "code",
   "execution_count": 119,
   "metadata": {
    "collapsed": true
   },
   "outputs": [],
   "source": [
    "sg_train = Image.open(\"./data/sg_train.jpg\")\n",
    "sgx_train = Image.open(\"./data/sgx_train.jpg\")\n",
    "sgx_test = Image.open(\"./data/sgx_test.jpg\")\n",
    "\n",
    "sg_train_array = np.array(sg_train)\n",
    "sgx_train_array = np.array(sgx_train)\n",
    "sgx_test_array = np.array(sgx_test)\n",
    "\n",
    "#print(sgx_train.mode)# 'L'\n",
    "#pyplot.subplot(3,1,1)\n",
    "#pyplot.imshow(sg_train, cmap=pyplot.gray())# mode = 'L' which means gray scale\n",
    "#pyplot.subplot(3,1,2)\n",
    "#pyplot.imshow(sgx_train, cmap=pyplot.gray())# mode = 'L' which means gray scale\n",
    "#pyplot.subplot(3,1,3)\n",
    "#pyplot.imshow(sgx_test, cmap=pyplot.gray())# mode = 'L' which means gray scale\n",
    "#pyplot.show()\n",
    "\n"
   ]
  },
  {
   "cell_type": "code",
   "execution_count": 120,
   "metadata": {},
   "outputs": [],
   "source": [
    "\n",
    "def generate_patches(img,patchsize):\n",
    "    patch_mat = None\n",
    "    for row in range(0,200-patchsize+1):\n",
    "        for col in range(0,200-patchsize+1):\n",
    "            if patch_mat is None : \n",
    "                patch_mat = img[row:row+patchsize, col : col+patchsize].flatten()\n",
    "                #patch_mat = patch_mat.flatten() \n",
    "                continue\n",
    "                \n",
    "                \n",
    "            a = img[row:row+patchsize,col:col+patchsize]\n",
    "            a = a.flatten()\n",
    "            #print(row,col,a.shape, patch_mat.size)\n",
    "            patch_mat = np.vstack((patch_mat,a))\n",
    "    return patch_mat.T"
   ]
  },
  {
   "cell_type": "code",
   "execution_count": 121,
   "metadata": {},
   "outputs": [],
   "source": [
    "sgx_train_patchmat = generate_patches(sgx_train_array,filter_Size)"
   ]
  },
  {
   "cell_type": "code",
   "execution_count": 122,
   "metadata": {},
   "outputs": [],
   "source": [
    "sg_train_shape=sg_train_array.shape"
   ]
  },
  {
   "cell_type": "code",
   "execution_count": 123,
   "metadata": {},
   "outputs": [
    {
     "data": {
      "text/plain": [
       "(190, 190)"
      ]
     },
     "execution_count": 123,
     "metadata": {},
     "output_type": "execute_result"
    }
   ],
   "source": [
    "filter_size=11#taking a wondow of size 11\n",
    "trim_start_ind= int((filter_size-1)/2 )\n",
    "trim_stop_ind=sg_train_shape[0]-int((filter_size-1)/2)\n",
    "trimmed_sg_train=sg_train_array[trim_start_ind:trim_stop_ind,trim_start_ind:trim_stop_ind]\n",
    "trimmed_sg_train.shape"
   ]
  },
  {
   "cell_type": "code",
   "execution_count": 124,
   "metadata": {},
   "outputs": [],
   "source": [
    "trimmed_sg_train = trimmed_sg_train.flatten()\n",
    "trimmed_sg_train = trimmed_sg_train.reshape((1,len(trimmed_sg_train)))"
   ]
  },
  {
   "cell_type": "code",
   "execution_count": 125,
   "metadata": {},
   "outputs": [
    {
     "name": "stdout",
     "output_type": "stream",
     "text": [
      "-2.01178821457 1.86832181578\n",
      "sg_train shape:  (200, 200)  Filter shape:  (121,)\n"
     ]
    }
   ],
   "source": [
    "image_filter=np.random.randn(filter_size,filter_size)\n",
    "image_filter=image_filter.flatten()\n",
    "#imageRavel=imageFilter.ravel()\n",
    "print(image_filter.min(), image_filter.flatten().max())\n",
    "print(\"sg_train shape: \",sg_train_array.shape,\" Filter shape: \",image_filter.shape)"
   ]
  },
  {
   "cell_type": "code",
   "execution_count": 126,
   "metadata": {},
   "outputs": [],
   "source": [
    "image_filter = image_filter.reshape((filter_size**2,1))"
   ]
  },
  {
   "cell_type": "code",
   "execution_count": 127,
   "metadata": {},
   "outputs": [],
   "source": [
    "sgx_train_array = sgx_train_patchmat/255.0 #normalizing the pixel intensity"
   ]
  },
  {
   "cell_type": "code",
   "execution_count": 128,
   "metadata": {
    "collapsed": true
   },
   "outputs": [],
   "source": [
    "trimmed_sg_train = trimmed_sg_train/255.0 #normalising the pixel intensity"
   ]
  },
  {
   "cell_type": "code",
   "execution_count": 129,
   "metadata": {},
   "outputs": [
    {
     "name": "stderr",
     "output_type": "stream",
     "text": [
      "/home/sakorrap/.virtualenvs/sah/lib/python3.5/site-packages/ipykernel_launcher.py:2: RuntimeWarning: overflow encountered in exp\n",
      "  \n"
     ]
    },
    {
     "name": "stdout",
     "output_type": "stream",
     "text": [
      "6 [[ 0.36240671]]\n",
      "6 [[ 0.36240671]]\n",
      "6 [[ 0.36240671]]\n",
      "6 [[ 0.36240671]]\n",
      "6 [[ 0.36240671]]\n",
      "6 [[ 0.36240671]]\n"
     ]
    }
   ],
   "source": [
    "rate=0.001\n",
    "error=1000\n",
    "threshold = 1e-10\n",
    "iter=0\n",
    "while error > threshold :\n",
    "    \n",
    "    sg_train_image = image_filter.T.dot(sgx_train_patchmat)\n",
    "    diff = trimmed_sg_train - logisticFunc(sg_train_image)\n",
    "    \n",
    "    error = diff.dot(diff.T)/trimmed_sg_train.shape[1]\n",
    "    \n",
    "    gradient = float(2)/36100.0 * sgx_train_patchmat.dot((diff * order1derivative_log(sg_train_image)).T)\n",
    "\n",
    "    imageFilter = image_filter + rate * gradient\n",
    "    print(iterations, error)\n",
    "    if iterations % 1000 == 0 : \n",
    "        print(iter, error)\n",
    "    iter +=1\n",
    "    if iter > 5 : \n",
    "        break"
   ]
  },
  {
   "cell_type": "code",
   "execution_count": null,
   "metadata": {
    "collapsed": true
   },
   "outputs": [],
   "source": []
  }
 ],
 "metadata": {
  "kernelspec": {
   "display_name": "Python 3",
   "language": "python",
   "name": "python3"
  },
  "language_info": {
   "codemirror_mode": {
    "name": "ipython",
    "version": 3
   },
   "file_extension": ".py",
   "mimetype": "text/x-python",
   "name": "python",
   "nbconvert_exporter": "python",
   "pygments_lexer": "ipython3",
   "version": "3.5.2"
  }
 },
 "nbformat": 4,
 "nbformat_minor": 2
}
